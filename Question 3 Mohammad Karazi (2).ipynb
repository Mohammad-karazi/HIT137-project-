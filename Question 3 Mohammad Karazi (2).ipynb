{
  "cells": [
    {
      "cell_type": "code",
      "source": [
        "#Revealing the key\n",
        "total = 0\n",
        "\n",
        "for i in range(5):\n",
        "    for j in range(3):\n",
        "        if i + j == 5:\n",
        "            total += i + j\n",
        "        else:\n",
        "            total -= i - j\n",
        "\n",
        "counter = 0\n",
        "while counter < 5:\n",
        "    if total < 13:\n",
        "        total += 1\n",
        "    elif total > 13:\n",
        "        total -= 1\n",
        "    else:\n",
        "        counter += 2\n",
        "\n",
        "print(total)  # This value might be the key for the encryption function\n"
      ],
      "metadata": {
        "colab": {
          "base_uri": "https://localhost:8080/"
        },
        "id": "yYA9W3FLihZb",
        "outputId": "9f3bdff3-ce7c-4ac4-b1f2-a8f8a4bbd24f"
      },
      "execution_count": null,
      "outputs": [
        {
          "output_type": "stream",
          "name": "stdout",
          "text": [
            "13\n"
          ]
        }
      ]
    },
    {
      "cell_type": "code",
      "source": [
        "# Initialize the global variable at the start of your script\n",
        "global_variable = 0\n",
        "\n",
        "my_dict = {'key1': 'value1', 'key2': 'value2', 'key3': 'value3'}\n",
        "\n",
        "def process_numbers():\n",
        "    global global_variable  # Declare that we will use the global variable\n",
        "    local_variable = 5\n",
        "    numbers = [1, 2, 3, 4, 5]\n",
        "\n",
        "    while local_variable > 0:\n",
        "        if local_variable % 2 == 0:\n",
        "            numbers.remove(local_variable)\n",
        "        local_variable -= 1\n",
        "\n",
        "    return numbers\n",
        "\n",
        "my_set = {1, 2, 3, 4, 5}\n",
        "result = process_numbers()  # Call function to process numbers\n",
        "\n",
        "def multiply_dept():\n",
        "    local_variable = 10\n",
        "    my_dict['key4'] = local_variable\n",
        "\n",
        "multiply_dept()\n",
        "\n",
        "def update_global():\n",
        "    global global_variable\n",
        "    global_variable += 10\n",
        "\n",
        "# Print each number from 0 to 4\n",
        "for i in range(5):\n",
        "    print(i)\n",
        "\n",
        "# Check if my_dict is properly set up and if specific condition holds\n",
        "if my_set is not None and my_dict['key4'] == 10:\n",
        "    print(\"Everything's set!\")\n",
        "\n",
        "# Check if a specific key is missing in the dictionary\n",
        "if 5 not in my_dict:\n",
        "    print(\"5 not found in the dictionary!\")\n",
        "\n",
        "# Print the global variable, dictionary, and set\n",
        "print(global_variable)\n",
        "print(my_dict)\n",
        "print(my_set)\n"
      ],
      "metadata": {
        "colab": {
          "base_uri": "https://localhost:8080/"
        },
        "id": "2gE6MNSsitTa",
        "outputId": "5e105baa-9d69-40f5-cca7-c01136883ed1"
      },
      "execution_count": null,
      "outputs": [
        {
          "output_type": "stream",
          "name": "stdout",
          "text": [
            "0\n",
            "1\n",
            "2\n",
            "3\n",
            "4\n",
            "Everything's set!\n",
            "5 not found in the dictionary!\n",
            "0\n",
            "{'key1': 'value1', 'key2': 'value2', 'key3': 'value3', 'key4': 10}\n",
            "{1, 2, 3, 4, 5}\n"
          ]
        }
      ]
    },
    {
      "cell_type": "code",
      "source": [
        "def caesar_cipher(text, key=13):  # Default key is 13 for ROT13\n",
        "    decrypted_text = \"\"\n",
        "    for char in text:\n",
        "        if char.isalpha():  # Check if the character is a letter\n",
        "            if char.islower():\n",
        "                base = ord('a')\n",
        "            else:\n",
        "                base = ord('A')\n",
        "            shifted = (ord(char) - base - key) % 26 + base\n",
        "            decrypted_text += chr(shifted)\n",
        "        else:\n",
        "            decrypted_text += char  # Keep non-alphabet characters unchanged\n",
        "    return decrypted_text\n",
        "\n",
        "# Example usage:\n",
        "encrypted_message = \"PQH vf gur orfg havirefvgl\"\n",
        "decrypted_message = caesar_cipher(encrypted_message)\n",
        "print(\"Decrypted Message:\", decrypted_message)\n"
      ],
      "metadata": {
        "colab": {
          "base_uri": "https://localhost:8080/"
        },
        "id": "eL1lgEAAlYaz",
        "outputId": "18d4cd6c-b683-4e5c-a375-cc83c48515e2"
      },
      "execution_count": null,
      "outputs": [
        {
          "output_type": "stream",
          "name": "stdout",
          "text": [
            "Decrypted Message: CDU is the best university\n"
          ]
        }
      ]
    },
    {
      "cell_type": "markdown",
      "source": [
        "https://github.com/Mohammad-karazi/HIT137-project-.git"
      ],
      "metadata": {
        "id": "3-SGbKRorIwH"
      }
    }
  ],
  "metadata": {
    "colab": {
      "provenance": []
    },
    "google": {
      "image_path": "/static/site-assets/images/docs/logo-python.svg",
      "keywords": [
        "examples",
        "gemini",
        "beginner",
        "googleai",
        "quickstart",
        "python",
        "text",
        "chat",
        "vision",
        "embed"
      ]
    },
    "kernelspec": {
      "display_name": "Python 3",
      "name": "python3"
    }
  },
  "nbformat": 4,
  "nbformat_minor": 0
}