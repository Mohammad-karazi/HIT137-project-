{
 "cells": [
  {
   "cell_type": "code",
   "execution_count": 2,
   "metadata": {},
   "outputs": [],
   "source": [
    "#Question 2, Chapter 1: "
   ]
  },
  {
   "cell_type": "code",
   "execution_count": 2,
   "metadata": {},
   "outputs": [
    {
     "name": "stdout",
     "output_type": "stream",
     "text": [
      "134\n"
     ]
    }
   ],
   "source": [
    "\n",
    "import time\n",
    "current_time = int(time.time())\n",
    "generated_number = (current_time % 100) + 50\n",
    "if generated_number % 2 == 0: generated_number += 10\n",
    "print(generated_number)"
   ]
  },
  {
   "cell_type": "code",
   "execution_count": 4,
   "metadata": {},
   "outputs": [
    {
     "name": "stdout",
     "output_type": "stream",
     "text": [
      "Sum of red pixel values in the modified image: 357071267\n"
     ]
    }
   ],
   "source": [
    "from PIL import Image\n",
    "\n",
    "# Path to the JPEG image file\n",
    "image_path = \"C:\\\\CDU 1st semester\\\\Software Now\\\\Assignment 2 (1)\\\\Chapter1.jpg\"\n",
    "\n",
    "# Read the original image\n",
    "original_image = Image.open(image_path)\n",
    "\n",
    "# Generated number obtained previously\n",
    "generated_number = 134\n",
    "\n",
    "# Modify each pixel in the image\n",
    "modified_image = original_image.copy()\n",
    "width, height = modified_image.size\n",
    "for y in range(height):\n",
    "    for x in range(width):\n",
    "        r, g, b = modified_image.getpixel((x, y))\n",
    "        modified_image.putpixel((x, y), (r + generated_number, g + generated_number, b + generated_number))\n",
    "\n",
    "# Save the modified image as PNG\n",
    "modified_image.save(\"chapter1out.png\")\n",
    "\n",
    "# Calculate the sum of red (r) pixel values\n",
    "red_sum = sum(modified_image.getpixel((x, y))[0] for y in range(height) for x in range(width))\n",
    "\n",
    "print(\"Sum of red pixel values in the modified image:\", red_sum)\n"
   ]
  },
  {
   "cell_type": "code",
   "execution_count": null,
   "metadata": {},
   "outputs": [],
   "source": [
    "#Question 2, Chapter 2\n"
   ]
  },
  {
   "cell_type": "code",
   "execution_count": 1,
   "metadata": {},
   "outputs": [
    {
     "name": "stdout",
     "output_type": "stream",
     "text": [
      "Even Numbers (ASCII Code Decimal Values): [54, 56, 52, 50, 50, 48, 52, 56, 48]\n",
      "Upper-case Letters (ASCII Code Decimal Values): [65, 89, 68]\n",
      "With shift key = 1, Deciphered Quote: UY EQXRUET UYBMFUQZF MZP M XUFFXQ UZEQOGDQ U YMWQ YUEFMWQE U MY AGF AR OAZFDAX MZPMF FUYQE TMDP FA TMZPXQ NGF UR KAG OMZF TMZPXQ YQ MF YK IADEF FTQZ KAG EGDQ ME TQXXPAZF PQEQDHQ YQ MF YK NQEF YMDUXKZ YAZDAQ\n",
      "With shift key = 2, Deciphered Quote: TX DPWQTDS TXALETPYE LYO L WTEEWP TYDPNFCP T XLVP XTDELVPD T LX ZFE ZQ NZYECZW LYOLE ETXPD SLCO EZ SLYOWP MFE TQ JZF NLYE SLYOWP XP LE XJ HZCDE ESPY JZF DFCP LD SPWWOZYE OPDPCGP XP LE XJ MPDE XLCTWJY XZYCZP\n",
      "With shift key = 3, Deciphered Quote: SW COVPSCR SWZKDSOXD KXN K VSDDVO SXCOMEBO S WKUO WSCDKUOC S KW YED YP MYXDBYV KXNKD DSWOC RKBN DY RKXNVO LED SP IYE MKXD RKXNVO WO KD WI GYBCD DROX IYE CEBO KC ROVVNYXD NOCOBFO WO KD WI LOCD WKBSVIX WYXBYO\n",
      "With shift key = 4, Deciphered Quote: RV BNUORBQ RVYJCRNWC JWM J URCCUN RWBNLDAN R VJTN VRBCJTNB R JV XDC XO LXWCAXU JWMJC CRVNB QJAM CX QJWMUN KDC RO HXD LJWC QJWMUN VN JC VH FXABC CQNW HXD BDAN JB QNUUMXWC MNBNAEN VN JC VH KNBC VJARUHW VXWAXN\n",
      "With shift key = 5, Deciphered Quote: QU AMTNQAP QUXIBQMVB IVL I TQBBTM QVAMKCZM Q UISM UQABISMA Q IU WCB WN KWVBZWT IVLIB BQUMA PIZL BW PIVLTM JCB QN GWC KIVB PIVLTM UM IB UG EWZAB BPMV GWC ACZM IA PMTTLWVB LMAMZDM UM IB UG JMAB UIZQTGV UWVZWM\n",
      "With shift key = 6, Deciphered Quote: PT ZLSMPZO PTWHAPLUA HUK H SPAASL PUZLJBYL P THRL TPZAHRLZ P HT VBA VM JVUAYVS HUKHA APTLZ OHYK AV OHUKSL IBA PM FVB JHUA OHUKSL TL HA TF DVYZA AOLU FVB ZBYL HZ OLSSKVUA KLZLYCL TL HA TF ILZA THYPSFU TVUYVL\n",
      "With shift key = 7, Deciphered Quote: OS YKRLOYN OSVGZOKTZ GTJ G ROZZRK OTYKIAXK O SGQK SOYZGQKY O GS UAZ UL IUTZXUR GTJGZ ZOSKY NGXJ ZU NGTJRK HAZ OL EUA IGTZ NGTJRK SK GZ SE CUXYZ ZNKT EUA YAXK GY NKRRJUTZ JKYKXBK SK GZ SE HKYZ SGXORET SUTXUK\n",
      "With shift key = 8, Deciphered Quote: NR XJQKNXM NRUFYNJSY FSI F QNYYQJ NSXJHZWJ N RFPJ RNXYFPJX N FR TZY TK HTSYWTQ FSIFY YNRJX MFWI YT MFSIQJ GZY NK DTZ HFSY MFSIQJ RJ FY RD BTWXY YMJS DTZ XZWJ FX MJQQITSY IJXJWAJ RJ FY RD GJXY RFWNQDS RTSWTJ\n",
      "With shift key = 9, Deciphered Quote: MQ WIPJMWL MQTEXMIRX ERH E PMXXPI MRWIGYVI M QEOI QMWXEOIW M EQ SYX SJ GSRXVSP ERHEX XMQIW LEVH XS LERHPI FYX MJ CSY GERX LERHPI QI EX QC ASVWX XLIR CSY WYVI EW LIPPHSRX HIWIVZI QI EX QC FIWX QEVMPCR QSRVSI\n",
      "With shift key = 10, Deciphered Quote: LP VHOILVK LPSDWLHQW DQG D OLWWOH LQVHFXUH L PDNH PLVWDNHV L DP RXW RI FRQWURO DQGDW WLPHV KDUG WR KDQGOH EXW LI BRX FDQW KDQGOH PH DW PB ZRUVW WKHQ BRX VXUH DV KHOOGRQW GHVHUYH PH DW PB EHVW PDULOBQ PRQURH\n",
      "With shift key = 11, Deciphered Quote: KO UGNHKUJ KORCVKGPV CPF C NKVVNG KPUGEWTG K OCMG OKUVCMGU K CO QWV QH EQPVTQN CPFCV VKOGU JCTF VQ JCPFNG DWV KH AQW ECPV JCPFNG OG CV OA YQTUV VJGP AQW UWTG CU JGNNFQPV FGUGTXG OG CV OA DGUV OCTKNAP OQPTQG\n",
      "With shift key = 12, Deciphered Quote: JN TFMGJTI JNQBUJFOU BOE B MJUUMF JOTFDVSF J NBLF NJTUBLFT J BN PVU PG DPOUSPM BOEBU UJNFT IBSE UP IBOEMF CVU JG ZPV DBOU IBOEMF NF BU NZ XPSTU UIFO ZPV TVSF BT IFMMEPOU EFTFSWF NF BU NZ CFTU NBSJMZO NPOSPF\n",
      "With shift key = 13, Deciphered Quote: IM SELFISH IMPATIENT AND A LITTLE INSECURE I MAKE MISTAKES I AM OUT OF CONTROL ANDAT TIMES HARD TO HANDLE BUT IF YOU CANT HANDLE ME AT MY WORST THEN YOU SURE AS HELLDONT DESERVE ME AT MY BEST MARILYN MONROE\n",
      "With shift key = 14, Deciphered Quote: HL RDKEHRG HLOZSHDMS ZMC Z KHSSKD HMRDBTQD H LZJD LHRSZJDR H ZL NTS NE BNMSQNK ZMCZS SHLDR GZQC SN GZMCKD ATS HE XNT BZMS GZMCKD LD ZS LX VNQRS SGDM XNT RTQD ZR GDKKCNMS CDRDQUD LD ZS LX ADRS LZQHKXM LNMQND\n",
      "With shift key = 15, Deciphered Quote: GK QCJDGQF GKNYRGCLR YLB Y JGRRJC GLQCASPC G KYIC KGQRYICQ G YK MSR MD AMLRPMJ YLBYR RGKCQ FYPB RM FYLBJC ZSR GD WMS AYLR FYLBJC KC YR KW UMPQR RFCL WMS QSPC YQ FCJJBMLR BCQCPTC KC YR KW ZCQR KYPGJWL KMLPMC\n",
      "With shift key = 16, Deciphered Quote: FJ PBICFPE FJMXQFBKQ XKA X IFQQIB FKPBZROB F JXHB JFPQXHBP F XJ LRQ LC ZLKQOLI XKAXQ QFJBP EXOA QL EXKAIB YRQ FC VLR ZXKQ EXKAIB JB XQ JV TLOPQ QEBK VLR PROB XP EBIIALKQ ABPBOSB JB XQ JV YBPQ JXOFIVK JLKOLB\n",
      "With shift key = 17, Deciphered Quote: EI OAHBEOD EILWPEAJP WJZ W HEPPHA EJOAYQNA E IWGA IEOPWGAO E WI KQP KB YKJPNKH WJZWP PEIAO DWNZ PK DWJZHA XQP EB UKQ YWJP DWJZHA IA WP IU SKNOP PDAJ UKQ OQNA WO DAHHZKJP ZAOANRA IA WP IU XAOP IWNEHUJ IKJNKA\n",
      "With shift key = 18, Deciphered Quote: DH NZGADNC DHKVODZIO VIY V GDOOGZ DINZXPMZ D HVFZ HDNOVFZN D VH JPO JA XJIOMJG VIYVO ODHZN CVMY OJ CVIYGZ WPO DA TJP XVIO CVIYGZ HZ VO HT RJMNO OCZI TJP NPMZ VN CZGGYJIO YZNZMQZ HZ VO HT WZNO HVMDGTI HJIMJZ\n",
      "With shift key = 19, Deciphered Quote: CG MYFZCMB CGJUNCYHN UHX U FCNNFY CHMYWOLY C GUEY GCMNUEYM C UG ION IZ WIHNLIF UHXUN NCGYM BULX NI BUHXFY VON CZ SIO WUHN BUHXFY GY UN GS QILMN NBYH SIO MOLY UM BYFFXIHN XYMYLPY GY UN GS VYMN GULCFSH GIHLIY\n",
      "With shift key = 20, Deciphered Quote: BF LXEYBLA BFITMBXGM TGW T EBMMEX BGLXVNKX B FTDX FBLMTDXL B TF HNM HY VHGMKHE TGWTM MBFXL ATKW MH ATGWEX UNM BY RHN VTGM ATGWEX FX TM FR PHKLM MAXG RHN LNKX TL AXEEWHGM WXLXKOX FX TM FR UXLM FTKBERG FHGKHX\n",
      "With shift key = 21, Deciphered Quote: AE KWDXAKZ AEHSLAWFL SFV S DALLDW AFKWUMJW A ESCW EAKLSCWK A SE GML GX UGFLJGD SFVSL LAEWK ZSJV LG ZSFVDW TML AX QGM USFL ZSFVDW EW SL EQ OGJKL LZWF QGM KMJW SK ZWDDVGFL VWKWJNW EW SL EQ TWKL ESJADQF EGFJGW\n",
      "With shift key = 22, Deciphered Quote: ZD JVCWZJY ZDGRKZVEK REU R CZKKCV ZEJVTLIV Z DRBV DZJKRBVJ Z RD FLK FW TFEKIFC REURK KZDVJ YRIU KF YREUCV SLK ZW PFL TREK YREUCV DV RK DP NFIJK KYVE PFL JLIV RJ YVCCUFEK UVJVIMV DV RK DP SVJK DRIZCPE DFEIFV\n",
      "With shift key = 23, Deciphered Quote: YC IUBVYIX YCFQJYUDJ QDT Q BYJJBU YDIUSKHU Y CQAU CYIJQAUI Y QC EKJ EV SEDJHEB QDTQJ JYCUI XQHT JE XQDTBU RKJ YV OEK SQDJ XQDTBU CU QJ CO MEHIJ JXUD OEK IKHU QI XUBBTEDJ TUIUHLU CU QJ CO RUIJ CQHYBOD CEDHEU\n",
      "With shift key = 24, Deciphered Quote: XB HTAUXHW XBEPIXTCI PCS P AXIIAT XCHTRJGT X BPZT BXHIPZTH X PB DJI DU RDCIGDA PCSPI IXBTH WPGS ID WPCSAT QJI XU NDJ RPCI WPCSAT BT PI BN LDGHI IWTC NDJ HJGT PH WTAASDCI STHTGKT BT PI BN QTHI BPGXANC BDCGDT\n",
      "With shift key = 25, Deciphered Quote: WA GSZTWGV WADOHWSBH OBR O ZWHHZS WBGSQIFS W AOYS AWGHOYSG W OA CIH CT QCBHFCZ OBROH HWASG VOFR HC VOBRZS PIH WT MCI QOBH VOBRZS AS OH AM KCFGH HVSB MCI GIFS OG VSZZRCBH RSGSFJS AS OH AM PSGH AOFWZMB ACBFCS\n"
     ]
    }
   ],
   "source": [
    "def separate_string(s):\n",
    "    numbers = ''.join(char for char in s if char.isdigit())\n",
    "    letters = ''.join(char for char in s if char.isalpha())\n",
    "    return numbers, letters\n",
    "\n",
    "def convert_to_ascii(numbers, letters):\n",
    "    even_numbers_ascii = [ord(char) for char in numbers if int(char) % 2 == 0]\n",
    "    upper_case_ascii = [ord(char) for char in letters if char.isupper()]\n",
    "    return even_numbers_ascii, upper_case_ascii\n",
    "\n",
    "def decrypt_cryptogram(cryptogram, shift_key):\n",
    "    decrypted = ''\n",
    "    for char in cryptogram:\n",
    "        if char.isalpha():\n",
    "            shifted_ascii = ord(char) - shift_key\n",
    "            if char.islower():\n",
    "                if shifted_ascii < ord('a'):\n",
    "                    shifted_ascii += 26\n",
    "            elif char.isupper():\n",
    "                if shifted_ascii < ord('A'):\n",
    "                    shifted_ascii += 26\n",
    "            decrypted += chr(shifted_ascii)\n",
    "        else:\n",
    "            decrypted += char\n",
    "    return decrypted\n",
    "\n",
    "# Example Scenario\n",
    "s = '56aAww1984sktr235270aYmn145ss785fsq31D0'\n",
    "numbers, letters = separate_string(s)\n",
    "even_numbers_ascii, upper_case_ascii = convert_to_ascii(numbers, letters)\n",
    "\n",
    "print(\"Even Numbers (ASCII Code Decimal Values):\", even_numbers_ascii)\n",
    "print(\"Upper-case Letters (ASCII Code Decimal Values):\", upper_case_ascii)\n",
    "\n",
    "# Provided Cryptogram\n",
    "cryptogram = \"VZ FRYSVFU VZCNGVRAG NAQ N YVGGYR VAFRPHER V ZNXR ZVFGNXRF V NZ BHG BS PBAGEBY NAQNG GVZRF UNEQ GB UNAQYR OHG VS LBH PNAG UNAQYR ZR NG ZL JBEFG GURA LBH FHER NF URYYQBAG QRFREIR ZR NG ZL ORFG ZNEVYLA ZBAEBR\"\n",
    "for shift_key in range(1, 26):\n",
    "    decrypted_quote = decrypt_cryptogram(cryptogram, shift_key)\n",
    "    print(f\"With shift key = {shift_key}, Deciphered Quote: {decrypted_quote}\")\n"
   ]
  },
  {
   "cell_type": "code",
   "execution_count": null,
   "metadata": {},
   "outputs": [],
   "source": []
  }
 ],
 "metadata": {
  "kernelspec": {
   "display_name": "Python 3",
   "language": "python",
   "name": "python3"
  },
  "language_info": {
   "codemirror_mode": {
    "name": "ipython",
    "version": 3
   },
   "file_extension": ".py",
   "mimetype": "text/x-python",
   "name": "python",
   "nbconvert_exporter": "python",
   "pygments_lexer": "ipython3",
   "version": "3.12.3"
  }
 },
 "nbformat": 4,
 "nbformat_minor": 2
}
